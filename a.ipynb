{
 "cells": [
  {
   "cell_type": "code",
   "execution_count": 42,
   "id": "b542a566",
   "metadata": {},
   "outputs": [],
   "source": [
    "import pandas as pd\n",
    "import numpy as np"
   ]
  },
  {
   "cell_type": "code",
   "execution_count": 43,
   "id": "1cfd3de3",
   "metadata": {},
   "outputs": [],
   "source": [
    "medicine = pd.read_csv(\"csv_output/agent1.csv\", na_filter=False)"
   ]
  },
  {
   "cell_type": "code",
   "execution_count": 47,
   "id": "ffe31966",
   "metadata": {},
   "outputs": [
    {
     "name": "stdout",
     "output_type": "stream",
     "text": [
      "Answer Percentages:\n",
      "Option A: 28.82%\n",
      "Option B: 28.50%\n",
      "Option C: 22.52%\n",
      "Option D: 20.16%\n"
     ]
    }
   ],
   "source": [
    "# Check that the dataframe has been loaded correctly\n",
    "if medicine.empty:\n",
    "    raise ValueError(\"The dataframe is empty. Please check the CSV file.\")\n",
    "# Check that the dataframe has no NaN or empty string \"\" values\n",
    "if medicine.isnull().values.any() or (medicine == \"\").any().any():\n",
    "    raise ValueError(\"The dataframe contains NaN or empty string values. Please clean the data.\")\n",
    "# Check that the dataframe has the expected columns\n",
    "expected_columns = [\"question\", \"option_A\", \"option_B\", \"option_C\", \"option_D\", \"answer\", \"explanation\"]\n",
    "if not all(col in medicine.columns for col in expected_columns):\n",
    "    raise ValueError(f\"The dataframe is missing one or more expected columns: {expected_columns}\")\n",
    "# Check that the 'answer' column contains only valid options\n",
    "valid_options = [\"A\", \"B\", \"C\", \"D\"]\n",
    "if not medicine[\"answer\"].isin(valid_options).all():\n",
    "    raise ValueError(\"The 'answer' column contains invalid options. It should only contain 'A', 'B', 'C', or 'D'.\")\n",
    "# Check that there are no duplicate questions\n",
    "if medicine[\"question\"].duplicated().any():\n",
    "    raise ValueError(\"The dataframe contains duplicate questions. Please ensure all questions are unique.\")\n",
    "\n",
    "\n",
    "# Print the answer percentage for each option\n",
    "def calculate_answer_percentage(df):\n",
    "    total_questions = len(df)\n",
    "    answer_counts = df[\"answer\"].value_counts(normalize=True) * 100\n",
    "    percentages = {option: answer_counts.get(option, 0) for option in valid_options}\n",
    "    return percentages\n",
    "\n",
    "\n",
    "answer_percentages = calculate_answer_percentage(medicine)\n",
    "# Print the answer percentages\n",
    "print(\"Answer Percentages:\")\n",
    "for option, percentage in answer_percentages.items():\n",
    "    print(f\"Option {option}: {percentage:.2f}%\")"
   ]
  }
 ],
 "metadata": {
  "kernelspec": {
   "display_name": "Python 3",
   "language": "python",
   "name": "python3"
  },
  "language_info": {
   "codemirror_mode": {
    "name": "ipython",
    "version": 3
   },
   "file_extension": ".py",
   "mimetype": "text/x-python",
   "name": "python",
   "nbconvert_exporter": "python",
   "pygments_lexer": "ipython3",
   "version": "3.12.3"
  }
 },
 "nbformat": 4,
 "nbformat_minor": 5
}
